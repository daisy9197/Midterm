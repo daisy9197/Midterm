{
 "cells": [
  {
   "cell_type": "code",
   "execution_count": 2,
   "metadata": {},
   "outputs": [
    {
     "name": "stdout",
     "output_type": "stream",
     "text": [
      "Feature pass\n"
     ]
    }
   ],
   "source": [
    "#first question\n",
    "\n",
    "def features_of_class(klass):\n",
    "    features = dir(eval(klass))\n",
    "    return features\n",
    "\n",
    "if features_of_class(\"int\") == dir(int):\n",
    "    print(\"Feature pass\")\n",
    "else:\n",
    "    print(\"Not done yet\")"
   ]
  },
  {
   "cell_type": "code",
   "execution_count": 18,
   "metadata": {},
   "outputs": [
    {
     "name": "stdout",
     "output_type": "stream",
     "text": [
      "S.startswith(prefix[, start[, end]]) -> bool\n",
      "\n",
      "Return True if S starts with the specified prefix, False otherwise.\n",
      "With optional start, test S beginning at that position.\n",
      "With optional end, stop comparing S at that position.\n",
      "prefix can also be a tuple of strings to try.\n",
      "\n",
      "\n",
      "doc string fetching looks OK\n"
     ]
    }
   ],
   "source": [
    "#second question\n",
    "def doc_string_for_feature(klass, feature):\n",
    "    try: \n",
    "        f_str = \".\" + eval( 'feature' ) + \".__doc__\"\n",
    "        doc_str = eval( klass+f_str )\n",
    "    except Exception as inst:\n",
    "        print( \"doc_string_for_feature - \"+str(type(inst)))    \n",
    "        doc_str = \" \"\n",
    "        \n",
    "    #return print(eval(klass+'()').__getattribute__(feature).__getattribute__(\"__doc__\"))\n",
    "    return doc_str\n",
    "\n",
    "print( doc_string_for_feature('str',  'startswith') )\n",
    "print(\"\\n\")\n",
    "if doc_string_for_feature('str','capitalize') == str.capitalize.__doc__:\n",
    "    print('doc string fetching looks OK')\n",
    "else:\n",
    "    print('doc string fetching may need work')"
   ]
  },
  {
   "cell_type": "code",
   "execution_count": 14,
   "metadata": {
    "scrolled": false
   },
   "outputs": [
    {
     "name": "stdout",
     "output_type": "stream",
     "text": [
      "maketrans\n",
      "fwtmdft checks out\n"
     ]
    }
   ],
   "source": [
    "#final task\n",
    "def feature_with_the_most_documentation_for_type(klass):\n",
    "    features=features_of_class(klass)\n",
    "    #features= dir(eval(klass))\n",
    "    \n",
    "    f_len_max = 0\n",
    "\n",
    "    for m in features:\n",
    "        try:\n",
    "            len_m = len( str(doc_string_for_feature(klass,m) ) )\n",
    "            if ( len_m > f_len_max ):\n",
    "                f_len_max = len_m\n",
    "                f_max = str( m )\n",
    "        except Exception as inst:\n",
    "            print( \"feature_with_the_most_documentation_for_type - \"+str(type(inst)))    \n",
    "    \n",
    "    return f_max\n",
    "\n",
    "print( feature_with_the_most_documentation_for_type(\"str\"))\n",
    "\n",
    "if feature_with_the_most_documentation_for_type('str') == 'maketrans':\n",
    "    print('fwtmdft checks out')\n",
    "else:\n",
    "    print('fwtmdft needs work')\n"
   ]
  },
  {
   "cell_type": "code",
   "execution_count": 13,
   "metadata": {},
   "outputs": [
    {
     "name": "stdout",
     "output_type": "stream",
     "text": [
      "Most complicated feature for str seems to be  maketrans\n",
      "Most complicated feature for int seems to be  to_bytes\n"
     ]
    }
   ],
   "source": [
    " if __name__ == '__main__':\n",
    "    print('Most complicated feature for str seems to be ',\n",
    "          feature_with_the_most_documentation_for_type('str'))\n",
    "    print('Most complicated feature for int seems to be ',\n",
    "          feature_with_the_most_documentation_for_type('int'))"
   ]
  },
  {
   "cell_type": "code",
   "execution_count": 16,
   "metadata": {},
   "outputs": [
    {
     "name": "stdout",
     "output_type": "stream",
     "text": [
      "maketrans\n"
     ]
    }
   ],
   "source": []
  },
  {
   "cell_type": "code",
   "execution_count": 67,
   "metadata": {},
   "outputs": [],
   "source": []
  },
  {
   "cell_type": "code",
   "execution_count": 68,
   "metadata": {},
   "outputs": [],
   "source": []
  },
  {
   "cell_type": "code",
   "execution_count": 69,
   "metadata": {},
   "outputs": [],
   "source": []
  },
  {
   "cell_type": "code",
   "execution_count": null,
   "metadata": {},
   "outputs": [],
   "source": []
  }
 ],
 "metadata": {
  "kernelspec": {
   "display_name": "Python 3",
   "language": "python",
   "name": "python3"
  },
  "language_info": {
   "codemirror_mode": {
    "name": "ipython",
    "version": 3
   },
   "file_extension": ".py",
   "mimetype": "text/x-python",
   "name": "python",
   "nbconvert_exporter": "python",
   "pygments_lexer": "ipython3",
   "version": "3.6.4"
  }
 },
 "nbformat": 4,
 "nbformat_minor": 2
}
